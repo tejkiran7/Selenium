{
 "cells": [
  {
   "cell_type": "code",
   "execution_count": 12,
   "id": "bb2fc1f5",
   "metadata": {},
   "outputs": [],
   "source": [
    "import time\n",
    "from selenium import webdriver\n",
    "from selenium.webdriver.chrome.service import Service\n",
    "from selenium.webdriver.common.by import By\n",
    "from selenium.webdriver.chrome.options import Options\n",
    "options = webdriver.ChromeOptions()"
   ]
  },
  {
   "cell_type": "code",
   "execution_count": 14,
   "id": "44f1b86c",
   "metadata": {},
   "outputs": [
    {
     "name": "stdout",
     "output_type": "stream",
     "text": [
      "Submitted successfully!\n"
     ]
    }
   ],
   "source": [
    "class Browser:\n",
    "    browser = None\n",
    "    service = None\n",
    "\n",
    "\n",
    "    def __init__(self): #, driver: str\n",
    "#         self.service = Service(driver)\n",
    "        options.add_argument(\"--headless=new\")\n",
    "        self.browser = webdriver.Chrome(options=options) #service=self.service\n",
    "\n",
    "    def open_page(self, url: str):\n",
    "        self.browser.get(url)\n",
    "\n",
    "    def close_browser(self):\n",
    "        self.browser.close()\n",
    "\n",
    "    def add_input(self, by: By, value: str, text: str):\n",
    "        field = self.browser.find_element(by=by, value=value)\n",
    "        field.send_keys(text)\n",
    "        time.sleep(1)\n",
    "\n",
    "    def click_button(self, by: By, value: str):\n",
    "        button = self.browser.find_element(by=by, value=value)\n",
    "        button.click()\n",
    "        time.sleep(1)\n",
    "\n",
    "    def login_linkedin(self, username: str, password: str):\n",
    "        self.add_input(by=By.NAME, value='session_key', text=username)\n",
    "        self.add_input(by=By.NAME, value='session_password', text=password)\n",
    "        self.click_button(by=By.XPATH, value=\"//button[@type='submit']\")\n",
    "        print(\"Submitted successfully!\")\n",
    "        self.browser.save_screenshot(\"screenshot.png\")\n",
    "\n",
    "if __name__ == '__main__':\n",
    "    browser = Browser()\n",
    "\n",
    "    browser.open_page('https://www.linkedin.com/home')\n",
    "    time.sleep(3)\n",
    "\n",
    "    browser.login_linkedin(username='USERNAME', password='PASSWORD')\n",
    "    time.sleep(10)\n",
    "\n",
    "    browser.close_browser()"
   ]
  },
  {
   "cell_type": "code",
   "execution_count": null,
   "id": "1e1f803d",
   "metadata": {},
   "outputs": [],
   "source": []
  }
 ],
 "metadata": {
  "kernelspec": {
   "display_name": "Python 3 (ipykernel)",
   "language": "python",
   "name": "python3"
  },
  "language_info": {
   "codemirror_mode": {
    "name": "ipython",
    "version": 3
   },
   "file_extension": ".py",
   "mimetype": "text/x-python",
   "name": "python",
   "nbconvert_exporter": "python",
   "pygments_lexer": "ipython3",
   "version": "3.9.13"
  }
 },
 "nbformat": 4,
 "nbformat_minor": 5
}
