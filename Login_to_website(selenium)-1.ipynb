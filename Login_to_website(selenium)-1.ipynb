{
 "cells": [
  {
   "cell_type": "code",
   "execution_count": 12,
   "id": "02862756",
   "metadata": {},
   "outputs": [],
   "source": [
    "from selenium import webdriver\n",
    "from selenium.webdriver.common.by import By\n",
    "from bs4 import BeautifulSoup\n",
    "import time\n",
    "\n",
    "\n",
    "url = \"https://www.linkedin.com/home\"\n",
    "\n",
    "username = \"kirantej486@gmail.com\"\n",
    "password = \"@Msd070781\n",
    " \n",
    "driver = webdriver.Chrome() \n",
    "driver.get(url)\n",
    "\n",
    "time.sleep(5)\n",
    " \n",
    "username = driver.find_element(By.NAME, \"session_key\")\n",
    "username.send_keys(username) \n",
    " \n",
    "\n",
    "pword = driver.find_element(By.NAME, \"session_password\")\n",
    "pword.send_keys(password)       \n",
    " \n",
    "# Clicking on the log in button\n",
    "# Format (syntax) of writing XPath -->\n",
    "# //tagname[@attribute='value']\n",
    "driver.find_element(By.XPATH, \"//button[@type='submit']\").click()"
   ]
  }
 ],
 "metadata": {
  "kernelspec": {
   "display_name": "Python 3 (ipykernel)",
   "language": "python",
   "name": "python3"
  },
  "language_info": {
   "codemirror_mode": {
    "name": "ipython",
    "version": 3
   },
   "file_extension": ".py",
   "mimetype": "text/x-python",
   "name": "python",
   "nbconvert_exporter": "python",
   "pygments_lexer": "ipython3",
   "version": "3.9.13"
  }
 },
 "nbformat": 4,
 "nbformat_minor": 5
}
